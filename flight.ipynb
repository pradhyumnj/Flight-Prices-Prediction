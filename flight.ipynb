{
 "cells": [
  {
   "cell_type": "code",
   "execution_count": 1,
   "id": "03745053-5356-4f73-971c-cb2bc725296f",
   "metadata": {},
   "outputs": [],
   "source": [
    "import pandas as pd\n",
    "import numpy as np\n",
    "import matplotlib.pyplot as plt\n",
    "import seaborn as sns\n",
    "from xgboost import XGBRegressor\n",
    "from sklearn.ensemble import RandomForestRegressor\n",
    "from sklearn.metrics import r2_score\n",
    "from sklearn.model_selection import cross_val_score\n",
    "\n",
    "pd.options.mode.chained_assignment = None"
   ]
  },
  {
   "cell_type": "code",
   "execution_count": 2,
   "id": "3ee6c914-0d9b-4cf2-b5fa-accfb1a71f19",
   "metadata": {},
   "outputs": [],
   "source": [
    "train_url = \"https://s3-ap-southeast-1.amazonaws.com/mettl-arq/questions/codelysis/machine-learning/fare-prediction/train.csv\"\n",
    "test_url = \"https://s3-ap-southeast-1.amazonaws.com/mettl-arq/questions/codelysis/machine-learning/fare-prediction/test.csv\"\n",
    "train = pd.read_csv(train_url)\n",
    "y_train = train['Fare']\n",
    "test = pd.read_csv(test_url)"
   ]
  },
  {
   "cell_type": "code",
   "execution_count": 3,
   "id": "c5d2b711-00e2-44bf-811d-e1e6d55ec5b2",
   "metadata": {},
   "outputs": [],
   "source": [
    "def preprocess(df):\n",
    "    df[\"Booking Date\"] = pd.to_datetime(df[\"Booking Date\"])\n",
    "    df['Flight Date'] = pd.to_datetime(df[\"Flight Date\"])\n",
    "    df['Date of Birth'] = pd.to_datetime(df['Date of Birth'])\n",
    "    df['Age'] = round((df['Booking Date'] - df['Date of Birth']).dt.days / 365.25)\n",
    "    df['Title'] = df.Name.map(lambda name : name.split(' ')[0].strip('.'))\n",
    "    df['Name'] = df.Name.map(lambda name : ' '.join(name.split(' ')[1:]))\n",
    "    df['Day of Week of Flight'] =  pd.to_datetime(df['Flight Date']).dt.day_of_week\n",
    "    df['Month of Flight'] = pd.to_datetime(df['Flight Date']).dt.month\n",
    "    df['Flight Time'] = df['Flight Time'].map(lambda time : int(''.join(time.split(':'))))\n",
    "    df['Gender'] = df['Name'].map(lambda name : 'Male' if name[0] == 'M' else 'Female')\n",
    "    df['Day of Week of Booking'] =  pd.to_datetime(df['Booking Date']).dt.day_of_week\n",
    "    df['Month of Booking'] = pd.to_datetime(df['Booking Date']).dt.month\n",
    "    df['Booking interval'] = (df['Flight Date'] - df['Booking Date']).dt.days\n",
    "    df['Route'] = pd.Series(zip(df[\"From\"],df['To']))\n",
    "    df.drop(['Date of Birth', 'Flight Date', 'Booking Date'], axis = 1 ,inplace = True)\n",
    "\n",
    "    df = df[[\"Title\", \"Gender\", \"Age\", \"Class\", \"Route\",\"Flight Time\",\n",
    "           \"Booking interval\",\"Month of Booking\", \"Day of Week of Booking\" ,\n",
    "           \"Month of Flight\", \"Day of Week of Flight\"]]\n",
    "    cols = df.select_dtypes(['object']).columns\n",
    "    df[cols] = df[cols].apply(lambda col: pd.factorize(col)[0])\n",
    "    return df"
   ]
  },
  {
   "cell_type": "code",
   "execution_count": 4,
   "id": "0e180f51-069a-418c-87a4-d14c2d8f3654",
   "metadata": {
    "tags": []
   },
   "outputs": [],
   "source": [
    "X_train = preprocess(train)\n",
    "X_test = preprocess(test)\n",
    "regressor = XGBRegressor(n_estimators = 100,learning_rate = 0.4)"
   ]
  },
  {
   "cell_type": "code",
   "execution_count": 5,
   "id": "685e7a19-0d44-4668-9940-0295fa8c88ee",
   "metadata": {},
   "outputs": [
    {
     "data": {
      "text/plain": [
       "array([0.93209189, 0.94006211, 0.93631967])"
      ]
     },
     "execution_count": 5,
     "metadata": {},
     "output_type": "execute_result"
    }
   ],
   "source": [
    "cross_val_score(regressor,X_train, y_train, cv = 3, scoring = 'r2')"
   ]
  }
 ],
 "metadata": {
  "kernelspec": {
   "display_name": "Python 3 (ipykernel)",
   "language": "python",
   "name": "python3"
  },
  "language_info": {
   "codemirror_mode": {
    "name": "ipython",
    "version": 3
   },
   "file_extension": ".py",
   "mimetype": "text/x-python",
   "name": "python",
   "nbconvert_exporter": "python",
   "pygments_lexer": "ipython3",
   "version": "3.8.10"
  }
 },
 "nbformat": 4,
 "nbformat_minor": 5
}
